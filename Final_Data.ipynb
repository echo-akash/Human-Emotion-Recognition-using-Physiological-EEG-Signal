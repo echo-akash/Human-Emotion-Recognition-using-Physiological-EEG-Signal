{
 "cells": [
  {
   "cell_type": "code",
   "execution_count": 3,
   "metadata": {},
   "outputs": [],
   "source": [
    "import pandas as pd\n",
    "from math import sqrt\n",
    "import csv"
   ]
  },
  {
   "cell_type": "code",
   "execution_count": 495,
   "metadata": {},
   "outputs": [],
   "source": [
    "\n",
    "df1 = pd.read_csv(\"Sad/40.csv\")\n",
    "#df2 = pd.read_csv(\"Funny/1.csv\")\n",
    "#df3 = pd.read_csv(\"Peaceful/1.csv\")\n",
    "#df4 = pd.read_csv(\"Sad/1.csv\")"
   ]
  },
  {
   "cell_type": "code",
   "execution_count": 496,
   "metadata": {},
   "outputs": [],
   "source": [
    "level=4\n",
    "\n",
    "mean1 = df1['delta'].mean()\n",
    "skew1 = df1['delta'].skew()\n",
    "median1 = df1['delta'].median()\n",
    "kurtosis1 = df1['delta'].kurtosis()\n",
    "std1 = df1['delta'].std()\n",
    "rms1 = sqrt(sum(n*n for n in df1['delta'])/len(df1['delta']))\n",
    "energy1 = 1\n",
    "\n",
    "mean2 = df1['theta'].mean()\n",
    "skew2 = df1['theta'].skew()\n",
    "median2 = df1['theta'].median()\n",
    "kurtosis2 = df1['theta'].kurtosis()\n",
    "std2 = df1['theta'].std()\n",
    "rms2 = sqrt(sum(n*n for n in df1['theta'])/len(df1['theta']))\n",
    "energy2 = 1\n",
    "\n",
    "mean3 = df1['alphaLow'].mean()\n",
    "skew3 = df1['alphaLow'].skew()\n",
    "median3 = df1['alphaLow'].median()\n",
    "kurtosis3 = df1['alphaLow'].kurtosis()\n",
    "std3 = df1['alphaLow'].std()\n",
    "rms3 = sqrt(sum(n*n for n in df1['alphaLow'])/len(df1['alphaLow']))\n",
    "energy3 = 1\n",
    "\n",
    "mean4 = df1['alphaHigh'].mean()\n",
    "skew4 = df1['alphaHigh'].skew()\n",
    "median4 = df1['alphaHigh'].median()\n",
    "kurtosis4 = df1['alphaHigh'].kurtosis()\n",
    "std4 = df1['alphaHigh'].std()\n",
    "rms4 = sqrt(sum(n*n for n in df1['alphaHigh'])/len(df1['alphaHigh']))\n",
    "energy4 = 1\n",
    "\n",
    "mean5 = df1['betaLow'].mean()\n",
    "skew5 = df1['betaLow'].skew()\n",
    "median5 = df1['betaLow'].median()\n",
    "kurtosis5 = df1['betaLow'].kurtosis()\n",
    "std5 = df1['betaLow'].std()\n",
    "rms5 = sqrt(sum(n*n for n in df1['betaLow'])/len(df1['betaLow']))\n",
    "energy5 = 1\n",
    "\n",
    "mean6 = df1['betaHigh'].mean()\n",
    "skew6 = df1['betaHigh'].skew()\n",
    "median6 = df1['betaHigh'].median()\n",
    "kurtosis6 = df1['betaHigh'].kurtosis()\n",
    "std6 = df1['betaHigh'].std()\n",
    "rms6 = sqrt(sum(n*n for n in df1['betaHigh'])/len(df1['betaHigh']))\n",
    "energy6 = 1\n",
    "\n",
    "mean7 = df1['gammaLow'].mean()\n",
    "skew7 = df1['gammaLow'].skew()\n",
    "median7 = df1['gammaLow'].median()\n",
    "kurtosis7 = df1['gammaLow'].kurtosis()\n",
    "std7 = df1['gammaLow'].std()\n",
    "rms7 = sqrt(sum(n*n for n in df1['gammaLow'])/len(df1['gammaLow']))\n",
    "energy7 = 1\n",
    "\n",
    "mean8 = df1['gammaMid'].mean()\n",
    "skew8 = df1['gammaMid'].skew()\n",
    "median8 = df1['gammaMid'].median()\n",
    "kurtosis8 = df1['gammaMid'].kurtosis()\n",
    "std8 = df1['gammaMid'].std()\n",
    "rms8 = sqrt(sum(n*n for n in df1['gammaMid'])/len(df1['gammaMid']))\n",
    "energy8 = 1"
   ]
  },
  {
   "cell_type": "code",
   "execution_count": 497,
   "metadata": {},
   "outputs": [],
   "source": [
    "row = [mean1, median1, skew1, kurtosis1, std1, rms1, energy1, mean2, median2, skew2, kurtosis2, std2, rms2, energy2, mean3, median3, skew3, kurtosis3, std3, rms3, energy3, mean4, median4, skew4, kurtosis4, std4, rms4, energy4, mean5, median5, skew5, kurtosis5, std5, rms5, energy5, mean6, median6, skew6, kurtosis6, std6, rms6, energy6, mean7, median7, skew7, kurtosis7, std7, rms7, energy7, mean8, median8, skew8, kurtosis8, std8, rms8, energy8, level]\n",
    "with open('Feature/feature.csv', 'a', newline=\"\") as csvFile:\n",
    "    writer = csv.writer(csvFile)\n",
    "    writer.writerow(row)\n",
    "csvFile.close()"
   ]
  },
  {
   "cell_type": "code",
   "execution_count": null,
   "metadata": {},
   "outputs": [],
   "source": []
  },
  {
   "cell_type": "code",
   "execution_count": null,
   "metadata": {},
   "outputs": [],
   "source": []
  }
 ],
 "metadata": {
  "kernelspec": {
   "display_name": "Python 3",
   "language": "python",
   "name": "python3"
  },
  "language_info": {
   "codemirror_mode": {
    "name": "ipython",
    "version": 3
   },
   "file_extension": ".py",
   "mimetype": "text/x-python",
   "name": "python",
   "nbconvert_exporter": "python",
   "pygments_lexer": "ipython3",
   "version": "3.6.8"
  }
 },
 "nbformat": 4,
 "nbformat_minor": 2
}
